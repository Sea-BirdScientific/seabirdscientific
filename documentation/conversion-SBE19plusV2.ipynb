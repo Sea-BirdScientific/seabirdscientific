{
 "cells": [
  {
   "cell_type": "markdown",
   "metadata": {},
   "source": [
    "# Data Conversion of 19plus V2 .hex data\n",
    "This python notebook shows how to convert a .hex file into pandas dataframe with scientific values.\n",
    "\n",
    "Please contact [SBS customer support](https://www.seabird.com/support) for help or to request additional features."
   ]
  },
  {
   "cell_type": "markdown",
   "metadata": {},
   "source": [
    "## Init\n",
    "\n",
    "The initialization code section below is used to import required libraries."
   ]
  },
  {
   "cell_type": "code",
   "execution_count": null,
   "metadata": {},
   "outputs": [],
   "source": [
    "# Native imports\n",
    "import os\n",
    "\n",
    "# Third-party imports\n",
    "import numpy as np\n",
    "import pandas as pd\n",
    "\n",
    "# Sea-Bird imports\n",
    "import seabirdscientific.conversion as conv\n",
    "import seabirdscientific.instrument_data as id\n",
    "import seabirdscientific.visualization as viz\n",
    "import example_data.example_coefficients as ec"
   ]
  },
  {
   "cell_type": "markdown",
   "metadata": {},
   "source": [
    "## [Data Conversion](#proc-list)\n",
    "\n",
    "This section shows how to convert raw data contained in a .hex file into engineering units for the instruments that follow:  \n",
    "- 19plus V2"
   ]
  },
  {
   "cell_type": "code",
   "execution_count": null,
   "metadata": {},
   "outputs": [],
   "source": [
    "hex_file = os.path.join(\"example_data\", \"19plus_V2\", \"19plus_V2.hex\")\n",
    "\n",
    "# Convert raw hexadecimal string to raw frequencies\n",
    "raw_data = id.read_hex_file(\n",
    "    filepath=hex_file,\n",
    "    instrument_type=id.InstrumentType.SBE19Plus,\n",
    "    enabled_sensors=[\n",
    "        id.Sensors.Temperature,\n",
    "        id.Sensors.Conductivity,\n",
    "        id.Sensors.Pressure,\n",
    "        id.Sensors.ExtVolt0,\n",
    "        id.Sensors.ExtVolt1,\n",
    "        id.Sensors.ExtVolt2,\n",
    "        id.Sensors.ExtVolt3,\n",
    "    ],\n",
    ")"
   ]
  },
  {
   "cell_type": "code",
   "execution_count": null,
   "metadata": {},
   "outputs": [],
   "source": [
    "# Convert raw frequencies to scientific values\n",
    "\n",
    "temperature = conv.convert_temperature(\n",
    "    temperature_counts_in=raw_data[\"temperature\"].values,\n",
    "    coefs=ec.temperature_coefs_sn6130,\n",
    "    standard='IPTS68',\n",
    "    units='C',\n",
    "    use_mv_r=True,\n",
    ")\n",
    "\n",
    "pressure = conv.convert_pressure(\n",
    "    pressure_count=raw_data[\"pressure\"].values,\n",
    "    compensation_voltage=raw_data[\"temperature compensation\"],\n",
    "    coefs=ec.pressure_coefs_sn6130,\n",
    "    units='psia',\n",
    ")\n",
    "\n",
    "conductivity = conv.convert_conductivity(\n",
    "    conductivity_count=raw_data[\"conductivity\"].values,\n",
    "    temperature=temperature,\n",
    "    pressure=pressure,\n",
    "    coefs=ec.conductivity_coefs_sn6130\n",
    ")\n",
    "\n",
    "# Flag to be used in data processing\n",
    "flag = np.zeros(len(temperature))\n",
    "\n",
    "data = pd.DataFrame({\n",
    "    \"temp\": temperature,\n",
    "    \"cond\":conductivity,\n",
    "    \"press\":pressure,\n",
    "    \"flag\":flag\n",
    "})\n",
    "data"
   ]
  },
  {
   "cell_type": "markdown",
   "metadata": {},
   "source": [
    "## [Data Plotting](#proc-list)"
   ]
  },
  {
   "cell_type": "code",
   "execution_count": null,
   "metadata": {},
   "outputs": [],
   "source": [
    "config = viz.ChartConfig(\n",
    "    title=\"19plus V2 Data Conversion\",\n",
    "    x_names=[\"temp\", \"cond\"],\n",
    "    y_names=[\"press\"],\n",
    "    z_names=[],\n",
    "    chart_type=\"overlay\",\n",
    "    plot_loop_edit_flags=False,\n",
    "    lift_pen_over_bad_data=True,\n",
    ")\n",
    "\n",
    "chart_data = viz.ChartData(data, config)\n",
    "fig = viz.plot_xy_chart(chart_data, config)\n",
    "\n",
    "# plotly customizations\n",
    "fig[\"layout\"][\"yaxis\"][\"autorange\"] = \"reversed\"\n",
    "fig.data[0].name = \"Temperature\"\n",
    "fig.data[1].name = \"Conductivity\"\n",
    "fig[\"layout\"][\"yaxis\"][\"title\"] = \"Pressure [PSIA]\"\n",
    "fig[\"layout\"][\"xaxis\"][\"title\"] = \"Temperature [ITS-90 degrees C]\"\n",
    "fig[\"layout\"][\"xaxis2\"][\"title\"] = \"Conductivity [S/m]\"\n",
    "\n",
    "fig.update_layout(height=800)\n",
    "fig.show()"
   ]
  }
 ],
 "metadata": {
  "kernelspec": {
   "display_name": ".venv",
   "language": "python",
   "name": "python3"
  },
  "language_info": {
   "codemirror_mode": {
    "name": "ipython",
    "version": 3
   },
   "file_extension": ".py",
   "mimetype": "text/x-python",
   "name": "python",
   "nbconvert_exporter": "python",
   "pygments_lexer": "ipython3",
   "version": "3.12.7"
  }
 },
 "nbformat": 4,
 "nbformat_minor": 4
}

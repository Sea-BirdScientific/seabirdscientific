{
 "cells": [
  {
   "cell_type": "markdown",
   "metadata": {},
   "source": [
    "# Data Conversion of SeaFET .hex data\n",
    "This python notebook shows how to convert a .hex file into pandas dataframe with scientific values.\n",
    "\n",
    "Please contact [SBS customer support](https://www.seabird.com/support) for help or to request additional features."
   ]
  },
  {
   "cell_type": "markdown",
   "metadata": {},
   "source": [
    "## Init\n",
    "\n",
    "The initialization code section below is used to import required libraries."
   ]
  },
  {
   "cell_type": "code",
   "execution_count": null,
   "metadata": {},
   "outputs": [],
   "source": [
    "# Native imports\n",
    "import os\n",
    "\n",
    "# Third-party imports\n",
    "import numpy as np\n",
    "import pandas as pd\n",
    "\n",
    "# Sea-Bird imports\n",
    "import seabirdscientific.conversion as conv\n",
    "import seabirdscientific.instrument_data as id\n",
    "import seabirdscientific.visualization as viz\n",
    "import example_data.example_coefficients as ec"
   ]
  },
  {
   "cell_type": "markdown",
   "metadata": {},
   "source": [
    "## [Data Conversion](#proc-list)\n",
    "\n",
    "This section shows how to convert raw data contained in a .hex file into scientific units for the instruments that follow:  \n",
    "- SeaFET"
   ]
  },
  {
   "cell_type": "code",
   "execution_count": null,
   "metadata": {},
   "outputs": [],
   "source": [
    "hex_file = os.path.join(\"example_data\", \"SeaFET_V2\", \"SeaFET_V2.hex\")\n",
    "\n",
    "# Convert raw hexadecimal string to raw frequencies\n",
    "raw_data = id.read_hex_file(\n",
    "    filepath=hex_file,\n",
    "    instrument_type=id.InstrumentType.SeaFET2,\n",
    "    is_shallow=True\n",
    ")"
   ]
  },
  {
   "cell_type": "code",
   "execution_count": null,
   "metadata": {},
   "outputs": [],
   "source": [
    "# Convert raw frequencies to scientific values\n",
    "\n",
    "# Salinity and pressure data used in external pH calculation\n",
    "# If you have salinity and pressure data from another sensor, input it here. Otherwise adjust these reference values.\n",
    "salinity = np.full(len(raw_data), 30) # PSU\n",
    "pressure = np.full(len(raw_data), 0) # dbar\n",
    "\n",
    "temperature = conv.convert_seafet_temperature(\n",
    "    raw_temp=raw_data[\"ph temperature\"].values, \n",
    "    coefs=ec.temeprature_seafet_coefs\n",
    ")\n",
    "\n",
    "ph_internal = conv.convert_internal_seafet_ph(\n",
    "    ph_counts=raw_data[\"vrs internal\"].values,\n",
    "    temperature=temperature,\n",
    "    coefs=ec.ph_internal_coefs\n",
    ")\n",
    "\n",
    "ph_external = conv.convert_external_seafet_ph(\n",
    "    ph_counts=raw_data[\"vrs external\"].values,\n",
    "    temperature=temperature,\n",
    "    salinity=salinity,\n",
    "    pressure=pressure,\n",
    "    coefs=ec.ph_external_coefs\n",
    "\n",
    ")\n",
    "\n",
    "# Flag to be used in data processing\n",
    "flag = np.zeros(len(raw_data))\n",
    "\n",
    "data = pd.DataFrame({\n",
    "    \"ph_internal\":ph_internal,\n",
    "    \"ph_external\":ph_external,\n",
    "    \"date_time\":raw_data[\"date time\"],\n",
    "    \"flag\":flag\n",
    "})\n",
    "\n",
    "data"
   ]
  },
  {
   "cell_type": "markdown",
   "metadata": {},
   "source": [
    "## [Data Plotting](#proc-list)"
   ]
  },
  {
   "cell_type": "code",
   "execution_count": null,
   "metadata": {},
   "outputs": [],
   "source": [
    "config = viz.ChartConfig(\n",
    "    title=\"SeaFET Data Conversion\",\n",
    "    x_names=[\"date_time\"],\n",
    "    y_names=[\"ph_internal\", \"ph_external\"],\n",
    "    z_names=[],\n",
    "    chart_type=\"overlay\",\n",
    "    plot_loop_edit_flags=False,\n",
    "    lift_pen_over_bad_data=True,\n",
    ")\n",
    "\n",
    "chart_data = viz.ChartData(data, config)\n",
    "fig = viz.plot_xy_chart(chart_data, config)\n",
    "\n",
    "# plotly customizations\n",
    "fig[\"layout\"][\"yaxis\"][\"autorange\"] = \"reversed\"\n",
    "fig.data[0].name = \"pH Internal\"\n",
    "fig.data[1].name = \"pH External\"\n",
    "fig[\"layout\"][\"yaxis\"][\"title\"] = \"pH Internal\"\n",
    "fig[\"layout\"][\"yaxis2\"][\"title\"] = \"pH External\"\n",
    "\n",
    "\n",
    "fig.update_layout(height=800)\n",
    "fig.show()"
   ]
  }
 ],
 "metadata": {
  "kernelspec": {
   "display_name": ".venv",
   "language": "python",
   "name": "python3"
  },
  "language_info": {
   "codemirror_mode": {
    "name": "ipython",
    "version": 3
   },
   "file_extension": ".py",
   "mimetype": "text/x-python",
   "name": "python",
   "nbconvert_exporter": "python",
   "pygments_lexer": "ipython3",
   "version": "3.12.7"
  }
 },
 "nbformat": 4,
 "nbformat_minor": 4
}

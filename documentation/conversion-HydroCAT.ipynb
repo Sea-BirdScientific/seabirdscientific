{
 "cells": [
  {
   "cell_type": "markdown",
   "metadata": {},
   "source": [
    "# Data Conversion of HydroCAT .hex data\n",
    "This python notebook shows how to convert a .hex file into pandas dataframe with scientific values.\n",
    "\n",
    "Please contact [SBS customer support](https://www.seabird.com/support) for help or to request additional features."
   ]
  },
  {
   "cell_type": "markdown",
   "metadata": {},
   "source": [
    "## Init\n",
    "\n",
    "The initialization code section below is used to import required libraries."
   ]
  },
  {
   "cell_type": "code",
   "execution_count": 6,
   "metadata": {},
   "outputs": [],
   "source": [
    "# Native imports\n",
    "import os\n",
    "\n",
    "# Third-party imports\n",
    "import numpy as np\n",
    "import pandas as pd\n",
    "import gsw\n",
    "\n",
    "# Sea-Bird imports\n",
    "import seabirdscientific.conversion as conv\n",
    "import seabirdscientific.instrument_data as id\n",
    "import seabirdscientific.visualization as viz\n",
    "import example_data.example_coefficients as ec"
   ]
  },
  {
   "cell_type": "markdown",
   "metadata": {},
   "source": [
    "## [Data Conversion](#proc-list)\n",
    "\n",
    "This section shows how to convert raw data contained in a .hex file into scientific units for the instruments that follow:  \n",
    "- HydroCAT\n",
    "- HydroCAT-ODO"
   ]
  },
  {
   "cell_type": "code",
   "execution_count": 2,
   "metadata": {},
   "outputs": [],
   "source": [
    "hex_file = os.path.join(\"example_data\", \"HydroCAT\", \"HydroCAT-ODO.hex\")\n",
    "\n",
    "# Convert raw hexadecimal string to raw frequencies\n",
    "raw_data = id.read_hex_file(\n",
    "    filepath=hex_file,\n",
    "    instrument_type=id.InstrumentType.HydroCATODO,\n",
    "    enabled_sensors=[\n",
    "        id.Sensors.Temperature,\n",
    "        id.Sensors.Conductivity,\n",
    "        id.Sensors.Pressure,\n",
    "        id.Sensors.SBE63\n",
    "    ],\n",
    ")"
   ]
  },
  {
   "cell_type": "code",
   "execution_count": 3,
   "metadata": {},
   "outputs": [
    {
     "data": {
      "text/html": [
       "<div>\n",
       "<style scoped>\n",
       "    .dataframe tbody tr th:only-of-type {\n",
       "        vertical-align: middle;\n",
       "    }\n",
       "\n",
       "    .dataframe tbody tr th {\n",
       "        vertical-align: top;\n",
       "    }\n",
       "\n",
       "    .dataframe thead th {\n",
       "        text-align: right;\n",
       "    }\n",
       "</style>\n",
       "<table border=\"1\" class=\"dataframe\">\n",
       "  <thead>\n",
       "    <tr style=\"text-align: right;\">\n",
       "      <th></th>\n",
       "      <th>temperature</th>\n",
       "      <th>conductivity</th>\n",
       "      <th>SBE63 oxygen phase</th>\n",
       "      <th>SBE63 oxygen temperature</th>\n",
       "      <th>pressure</th>\n",
       "      <th>temperature compensation</th>\n",
       "      <th>date time</th>\n",
       "    </tr>\n",
       "  </thead>\n",
       "  <tbody>\n",
       "    <tr>\n",
       "      <th>0</th>\n",
       "      <td>233108.0</td>\n",
       "      <td>2622.671875</td>\n",
       "      <td>16.980</td>\n",
       "      <td>0.597280</td>\n",
       "      <td>553866.0</td>\n",
       "      <td>2203.0</td>\n",
       "      <td>2025-09-19 20:10:03</td>\n",
       "    </tr>\n",
       "    <tr>\n",
       "      <th>1</th>\n",
       "      <td>233084.0</td>\n",
       "      <td>2622.667969</td>\n",
       "      <td>16.981</td>\n",
       "      <td>0.597273</td>\n",
       "      <td>553868.0</td>\n",
       "      <td>2203.0</td>\n",
       "      <td>2025-09-19 20:10:13</td>\n",
       "    </tr>\n",
       "    <tr>\n",
       "      <th>2</th>\n",
       "      <td>233066.0</td>\n",
       "      <td>2622.667969</td>\n",
       "      <td>16.977</td>\n",
       "      <td>0.597262</td>\n",
       "      <td>553867.0</td>\n",
       "      <td>2203.0</td>\n",
       "      <td>2025-09-19 20:10:23</td>\n",
       "    </tr>\n",
       "    <tr>\n",
       "      <th>3</th>\n",
       "      <td>233048.0</td>\n",
       "      <td>2622.667969</td>\n",
       "      <td>16.982</td>\n",
       "      <td>0.597262</td>\n",
       "      <td>553867.0</td>\n",
       "      <td>2204.0</td>\n",
       "      <td>2025-09-19 20:10:33</td>\n",
       "    </tr>\n",
       "    <tr>\n",
       "      <th>4</th>\n",
       "      <td>233027.0</td>\n",
       "      <td>2622.664062</td>\n",
       "      <td>16.976</td>\n",
       "      <td>0.597249</td>\n",
       "      <td>553865.0</td>\n",
       "      <td>2203.0</td>\n",
       "      <td>2025-09-19 20:10:43</td>\n",
       "    </tr>\n",
       "    <tr>\n",
       "      <th>5</th>\n",
       "      <td>233003.0</td>\n",
       "      <td>2622.664062</td>\n",
       "      <td>16.979</td>\n",
       "      <td>0.597238</td>\n",
       "      <td>553867.0</td>\n",
       "      <td>2203.0</td>\n",
       "      <td>2025-09-19 20:10:53</td>\n",
       "    </tr>\n",
       "    <tr>\n",
       "      <th>6</th>\n",
       "      <td>232983.0</td>\n",
       "      <td>2622.667969</td>\n",
       "      <td>16.981</td>\n",
       "      <td>0.597230</td>\n",
       "      <td>553866.0</td>\n",
       "      <td>2204.0</td>\n",
       "      <td>2025-09-19 20:11:03</td>\n",
       "    </tr>\n",
       "    <tr>\n",
       "      <th>7</th>\n",
       "      <td>232961.0</td>\n",
       "      <td>2622.664062</td>\n",
       "      <td>16.981</td>\n",
       "      <td>0.597226</td>\n",
       "      <td>553867.0</td>\n",
       "      <td>2204.0</td>\n",
       "      <td>2025-09-19 20:11:13</td>\n",
       "    </tr>\n",
       "    <tr>\n",
       "      <th>8</th>\n",
       "      <td>232928.0</td>\n",
       "      <td>2622.664062</td>\n",
       "      <td>16.978</td>\n",
       "      <td>0.597218</td>\n",
       "      <td>553867.0</td>\n",
       "      <td>2203.0</td>\n",
       "      <td>2025-09-19 20:11:23</td>\n",
       "    </tr>\n",
       "    <tr>\n",
       "      <th>9</th>\n",
       "      <td>232909.0</td>\n",
       "      <td>2622.664062</td>\n",
       "      <td>16.978</td>\n",
       "      <td>0.597207</td>\n",
       "      <td>553867.0</td>\n",
       "      <td>2203.0</td>\n",
       "      <td>2025-09-19 20:11:33</td>\n",
       "    </tr>\n",
       "    <tr>\n",
       "      <th>10</th>\n",
       "      <td>232887.0</td>\n",
       "      <td>2622.664062</td>\n",
       "      <td>16.978</td>\n",
       "      <td>0.597192</td>\n",
       "      <td>553866.0</td>\n",
       "      <td>2203.0</td>\n",
       "      <td>2025-09-19 20:11:43</td>\n",
       "    </tr>\n",
       "    <tr>\n",
       "      <th>11</th>\n",
       "      <td>232858.0</td>\n",
       "      <td>2622.664062</td>\n",
       "      <td>16.979</td>\n",
       "      <td>0.597182</td>\n",
       "      <td>553866.0</td>\n",
       "      <td>2203.0</td>\n",
       "      <td>2025-09-19 20:11:53</td>\n",
       "    </tr>\n",
       "    <tr>\n",
       "      <th>12</th>\n",
       "      <td>232840.0</td>\n",
       "      <td>2622.664062</td>\n",
       "      <td>16.978</td>\n",
       "      <td>0.597173</td>\n",
       "      <td>553865.0</td>\n",
       "      <td>2204.0</td>\n",
       "      <td>2025-09-19 20:12:03</td>\n",
       "    </tr>\n",
       "    <tr>\n",
       "      <th>13</th>\n",
       "      <td>232819.0</td>\n",
       "      <td>2622.664062</td>\n",
       "      <td>16.978</td>\n",
       "      <td>0.597158</td>\n",
       "      <td>553866.0</td>\n",
       "      <td>2204.0</td>\n",
       "      <td>2025-09-19 20:12:13</td>\n",
       "    </tr>\n",
       "    <tr>\n",
       "      <th>14</th>\n",
       "      <td>232788.0</td>\n",
       "      <td>2622.664062</td>\n",
       "      <td>16.974</td>\n",
       "      <td>0.597145</td>\n",
       "      <td>553867.0</td>\n",
       "      <td>2203.0</td>\n",
       "      <td>2025-09-19 20:12:23</td>\n",
       "    </tr>\n",
       "    <tr>\n",
       "      <th>15</th>\n",
       "      <td>232764.0</td>\n",
       "      <td>2622.664062</td>\n",
       "      <td>16.979</td>\n",
       "      <td>0.597123</td>\n",
       "      <td>553867.0</td>\n",
       "      <td>2204.0</td>\n",
       "      <td>2025-09-19 20:12:33</td>\n",
       "    </tr>\n",
       "    <tr>\n",
       "      <th>16</th>\n",
       "      <td>232742.0</td>\n",
       "      <td>2622.660156</td>\n",
       "      <td>16.980</td>\n",
       "      <td>0.597101</td>\n",
       "      <td>553867.0</td>\n",
       "      <td>2203.0</td>\n",
       "      <td>2025-09-19 20:12:43</td>\n",
       "    </tr>\n",
       "  </tbody>\n",
       "</table>\n",
       "</div>"
      ],
      "text/plain": [
       "    temperature  conductivity  SBE63 oxygen phase  SBE63 oxygen temperature  \\\n",
       "0      233108.0   2622.671875              16.980                  0.597280   \n",
       "1      233084.0   2622.667969              16.981                  0.597273   \n",
       "2      233066.0   2622.667969              16.977                  0.597262   \n",
       "3      233048.0   2622.667969              16.982                  0.597262   \n",
       "4      233027.0   2622.664062              16.976                  0.597249   \n",
       "5      233003.0   2622.664062              16.979                  0.597238   \n",
       "6      232983.0   2622.667969              16.981                  0.597230   \n",
       "7      232961.0   2622.664062              16.981                  0.597226   \n",
       "8      232928.0   2622.664062              16.978                  0.597218   \n",
       "9      232909.0   2622.664062              16.978                  0.597207   \n",
       "10     232887.0   2622.664062              16.978                  0.597192   \n",
       "11     232858.0   2622.664062              16.979                  0.597182   \n",
       "12     232840.0   2622.664062              16.978                  0.597173   \n",
       "13     232819.0   2622.664062              16.978                  0.597158   \n",
       "14     232788.0   2622.664062              16.974                  0.597145   \n",
       "15     232764.0   2622.664062              16.979                  0.597123   \n",
       "16     232742.0   2622.660156              16.980                  0.597101   \n",
       "\n",
       "    pressure  temperature compensation           date time  \n",
       "0   553866.0                    2203.0 2025-09-19 20:10:03  \n",
       "1   553868.0                    2203.0 2025-09-19 20:10:13  \n",
       "2   553867.0                    2203.0 2025-09-19 20:10:23  \n",
       "3   553867.0                    2204.0 2025-09-19 20:10:33  \n",
       "4   553865.0                    2203.0 2025-09-19 20:10:43  \n",
       "5   553867.0                    2203.0 2025-09-19 20:10:53  \n",
       "6   553866.0                    2204.0 2025-09-19 20:11:03  \n",
       "7   553867.0                    2204.0 2025-09-19 20:11:13  \n",
       "8   553867.0                    2203.0 2025-09-19 20:11:23  \n",
       "9   553867.0                    2203.0 2025-09-19 20:11:33  \n",
       "10  553866.0                    2203.0 2025-09-19 20:11:43  \n",
       "11  553866.0                    2203.0 2025-09-19 20:11:53  \n",
       "12  553865.0                    2204.0 2025-09-19 20:12:03  \n",
       "13  553866.0                    2204.0 2025-09-19 20:12:13  \n",
       "14  553867.0                    2203.0 2025-09-19 20:12:23  \n",
       "15  553867.0                    2204.0 2025-09-19 20:12:33  \n",
       "16  553867.0                    2203.0 2025-09-19 20:12:43  "
      ]
     },
     "execution_count": 3,
     "metadata": {},
     "output_type": "execute_result"
    }
   ],
   "source": [
    "raw_data"
   ]
  },
  {
   "cell_type": "code",
   "execution_count": 10,
   "metadata": {},
   "outputs": [
    {
     "data": {
      "text/html": [
       "<div>\n",
       "<style scoped>\n",
       "    .dataframe tbody tr th:only-of-type {\n",
       "        vertical-align: middle;\n",
       "    }\n",
       "\n",
       "    .dataframe tbody tr th {\n",
       "        vertical-align: top;\n",
       "    }\n",
       "\n",
       "    .dataframe thead th {\n",
       "        text-align: right;\n",
       "    }\n",
       "</style>\n",
       "<table border=\"1\" class=\"dataframe\">\n",
       "  <thead>\n",
       "    <tr style=\"text-align: right;\">\n",
       "      <th></th>\n",
       "      <th>temp</th>\n",
       "      <th>cond</th>\n",
       "      <th>sal</th>\n",
       "      <th>oxy</th>\n",
       "      <th>press</th>\n",
       "      <th>date_time</th>\n",
       "      <th>flag</th>\n",
       "    </tr>\n",
       "  </thead>\n",
       "  <tbody>\n",
       "    <tr>\n",
       "      <th>0</th>\n",
       "      <td>84.650202</td>\n",
       "      <td>-0.132421</td>\n",
       "      <td>30.0</td>\n",
       "      <td>5.172392</td>\n",
       "      <td>1130.969231</td>\n",
       "      <td>2025-09-19 20:10:03</td>\n",
       "      <td>0.0</td>\n",
       "    </tr>\n",
       "    <tr>\n",
       "      <th>1</th>\n",
       "      <td>84.653902</td>\n",
       "      <td>-0.132424</td>\n",
       "      <td>30.0</td>\n",
       "      <td>5.171595</td>\n",
       "      <td>1130.970529</td>\n",
       "      <td>2025-09-19 20:10:13</td>\n",
       "      <td>0.0</td>\n",
       "    </tr>\n",
       "    <tr>\n",
       "      <th>2</th>\n",
       "      <td>84.656677</td>\n",
       "      <td>-0.132424</td>\n",
       "      <td>30.0</td>\n",
       "      <td>5.174447</td>\n",
       "      <td>1130.969880</td>\n",
       "      <td>2025-09-19 20:10:23</td>\n",
       "      <td>0.0</td>\n",
       "    </tr>\n",
       "    <tr>\n",
       "      <th>3</th>\n",
       "      <td>84.659453</td>\n",
       "      <td>-0.132424</td>\n",
       "      <td>30.0</td>\n",
       "      <td>5.170763</td>\n",
       "      <td>1130.968627</td>\n",
       "      <td>2025-09-19 20:10:33</td>\n",
       "      <td>0.0</td>\n",
       "    </tr>\n",
       "    <tr>\n",
       "      <th>4</th>\n",
       "      <td>84.662691</td>\n",
       "      <td>-0.132426</td>\n",
       "      <td>30.0</td>\n",
       "      <td>5.175072</td>\n",
       "      <td>1130.968582</td>\n",
       "      <td>2025-09-19 20:10:43</td>\n",
       "      <td>0.0</td>\n",
       "    </tr>\n",
       "    <tr>\n",
       "      <th>5</th>\n",
       "      <td>84.666393</td>\n",
       "      <td>-0.132426</td>\n",
       "      <td>30.0</td>\n",
       "      <td>5.172766</td>\n",
       "      <td>1130.969880</td>\n",
       "      <td>2025-09-19 20:10:53</td>\n",
       "      <td>0.0</td>\n",
       "    </tr>\n",
       "    <tr>\n",
       "      <th>6</th>\n",
       "      <td>84.669478</td>\n",
       "      <td>-0.132424</td>\n",
       "      <td>30.0</td>\n",
       "      <td>5.171223</td>\n",
       "      <td>1130.967978</td>\n",
       "      <td>2025-09-19 20:11:03</td>\n",
       "      <td>0.0</td>\n",
       "    </tr>\n",
       "    <tr>\n",
       "      <th>7</th>\n",
       "      <td>84.672872</td>\n",
       "      <td>-0.132426</td>\n",
       "      <td>30.0</td>\n",
       "      <td>5.171188</td>\n",
       "      <td>1130.968627</td>\n",
       "      <td>2025-09-19 20:11:13</td>\n",
       "      <td>0.0</td>\n",
       "    </tr>\n",
       "    <tr>\n",
       "      <th>8</th>\n",
       "      <td>84.677963</td>\n",
       "      <td>-0.132426</td>\n",
       "      <td>30.0</td>\n",
       "      <td>5.173330</td>\n",
       "      <td>1130.969880</td>\n",
       "      <td>2025-09-19 20:11:23</td>\n",
       "      <td>0.0</td>\n",
       "    </tr>\n",
       "    <tr>\n",
       "      <th>9</th>\n",
       "      <td>84.680895</td>\n",
       "      <td>-0.132426</td>\n",
       "      <td>30.0</td>\n",
       "      <td>5.173234</td>\n",
       "      <td>1130.969880</td>\n",
       "      <td>2025-09-19 20:11:33</td>\n",
       "      <td>0.0</td>\n",
       "    </tr>\n",
       "    <tr>\n",
       "      <th>10</th>\n",
       "      <td>84.684290</td>\n",
       "      <td>-0.132426</td>\n",
       "      <td>30.0</td>\n",
       "      <td>5.173105</td>\n",
       "      <td>1130.969231</td>\n",
       "      <td>2025-09-19 20:11:43</td>\n",
       "      <td>0.0</td>\n",
       "    </tr>\n",
       "    <tr>\n",
       "      <th>11</th>\n",
       "      <td>84.688766</td>\n",
       "      <td>-0.132426</td>\n",
       "      <td>30.0</td>\n",
       "      <td>5.172281</td>\n",
       "      <td>1130.969231</td>\n",
       "      <td>2025-09-19 20:11:53</td>\n",
       "      <td>0.0</td>\n",
       "    </tr>\n",
       "    <tr>\n",
       "      <th>12</th>\n",
       "      <td>84.691544</td>\n",
       "      <td>-0.132426</td>\n",
       "      <td>30.0</td>\n",
       "      <td>5.172940</td>\n",
       "      <td>1130.967329</td>\n",
       "      <td>2025-09-19 20:12:03</td>\n",
       "      <td>0.0</td>\n",
       "    </tr>\n",
       "    <tr>\n",
       "      <th>13</th>\n",
       "      <td>84.694786</td>\n",
       "      <td>-0.132426</td>\n",
       "      <td>30.0</td>\n",
       "      <td>5.172810</td>\n",
       "      <td>1130.967978</td>\n",
       "      <td>2025-09-19 20:12:13</td>\n",
       "      <td>0.0</td>\n",
       "    </tr>\n",
       "    <tr>\n",
       "      <th>14</th>\n",
       "      <td>84.699572</td>\n",
       "      <td>-0.132426</td>\n",
       "      <td>30.0</td>\n",
       "      <td>5.175647</td>\n",
       "      <td>1130.969880</td>\n",
       "      <td>2025-09-19 20:12:23</td>\n",
       "      <td>0.0</td>\n",
       "    </tr>\n",
       "    <tr>\n",
       "      <th>15</th>\n",
       "      <td>84.703278</td>\n",
       "      <td>-0.132426</td>\n",
       "      <td>30.0</td>\n",
       "      <td>5.171771</td>\n",
       "      <td>1130.968627</td>\n",
       "      <td>2025-09-19 20:12:33</td>\n",
       "      <td>0.0</td>\n",
       "    </tr>\n",
       "    <tr>\n",
       "      <th>16</th>\n",
       "      <td>84.706676</td>\n",
       "      <td>-0.132429</td>\n",
       "      <td>30.0</td>\n",
       "      <td>5.170844</td>\n",
       "      <td>1130.969880</td>\n",
       "      <td>2025-09-19 20:12:43</td>\n",
       "      <td>0.0</td>\n",
       "    </tr>\n",
       "  </tbody>\n",
       "</table>\n",
       "</div>"
      ],
      "text/plain": [
       "         temp      cond   sal       oxy        press           date_time  flag\n",
       "0   84.650202 -0.132421  30.0  5.172392  1130.969231 2025-09-19 20:10:03   0.0\n",
       "1   84.653902 -0.132424  30.0  5.171595  1130.970529 2025-09-19 20:10:13   0.0\n",
       "2   84.656677 -0.132424  30.0  5.174447  1130.969880 2025-09-19 20:10:23   0.0\n",
       "3   84.659453 -0.132424  30.0  5.170763  1130.968627 2025-09-19 20:10:33   0.0\n",
       "4   84.662691 -0.132426  30.0  5.175072  1130.968582 2025-09-19 20:10:43   0.0\n",
       "5   84.666393 -0.132426  30.0  5.172766  1130.969880 2025-09-19 20:10:53   0.0\n",
       "6   84.669478 -0.132424  30.0  5.171223  1130.967978 2025-09-19 20:11:03   0.0\n",
       "7   84.672872 -0.132426  30.0  5.171188  1130.968627 2025-09-19 20:11:13   0.0\n",
       "8   84.677963 -0.132426  30.0  5.173330  1130.969880 2025-09-19 20:11:23   0.0\n",
       "9   84.680895 -0.132426  30.0  5.173234  1130.969880 2025-09-19 20:11:33   0.0\n",
       "10  84.684290 -0.132426  30.0  5.173105  1130.969231 2025-09-19 20:11:43   0.0\n",
       "11  84.688766 -0.132426  30.0  5.172281  1130.969231 2025-09-19 20:11:53   0.0\n",
       "12  84.691544 -0.132426  30.0  5.172940  1130.967329 2025-09-19 20:12:03   0.0\n",
       "13  84.694786 -0.132426  30.0  5.172810  1130.967978 2025-09-19 20:12:13   0.0\n",
       "14  84.699572 -0.132426  30.0  5.175647  1130.969880 2025-09-19 20:12:23   0.0\n",
       "15  84.703278 -0.132426  30.0  5.171771  1130.968627 2025-09-19 20:12:33   0.0\n",
       "16  84.706676 -0.132429  30.0  5.170844  1130.969880 2025-09-19 20:12:43   0.0"
      ]
     },
     "execution_count": 10,
     "metadata": {},
     "output_type": "execute_result"
    }
   ],
   "source": [
    "# Convert raw frequencies to scientific values\n",
    "\n",
    "temperature = conv.convert_temperature(\n",
    "    temperature_counts_in=raw_data[\"temperature\"].values,\n",
    "    coefs=ec.temperature_coefs_sn03906502,\n",
    "    standard='ITS90',\n",
    "    units='C',\n",
    "    use_mv_r=False,\n",
    ")\n",
    "\n",
    "pressure_dbar = conv.convert_pressure(\n",
    "    pressure_count=raw_data[\"pressure\"].values,\n",
    "    compensation_voltage=raw_data[\"temperature compensation\"],\n",
    "    coefs=ec.pressure_coefs_sn03906502,\n",
    "    units='dbar',\n",
    ") \n",
    "\n",
    "conductivity = conv.convert_conductivity(\n",
    "    conductivity_count=raw_data[\"conductivity\"].values,\n",
    "    temperature=temperature,\n",
    "    pressure=pressure_dbar,  # must be in units of dbar\n",
    "    coefs=ec.conductivity_coefs_sn6385\n",
    ")\n",
    "\n",
    "# salinity = gsw.SP_from_C(\n",
    "#     C=conductivity / 1000, # mS/cm\n",
    "#     t=temperature, # ITS90 C\n",
    "#     p=pressure_dbar # dbar\n",
    "# )\n",
    "salinity = np.full(len(temperature), 30.0) # override until we have a real data set\n",
    "\n",
    "oxygen = conv.convert_sbe63_oxygen(\n",
    "    raw_oxygen_phase=raw_data[\"SBE63 oxygen phase\"],\n",
    "    thermistor=raw_data[\"SBE63 oxygen temperature\"],\n",
    "    pressure=pressure_dbar,\n",
    "    salinity=salinity,\n",
    "    coefs=ec.oxygen_63_coefs_sn2568,\n",
    "    thermistor_coefs=ec.thermistor_63_coefs_sn2568,\n",
    "    thermistor_units=\"volts\"\n",
    ")\n",
    "\n",
    "# Flag to be used in data processing\n",
    "flag = np.zeros(len(temperature))\n",
    "\n",
    "data = pd.DataFrame({\n",
    "    \"temp\": temperature,\n",
    "    \"cond\":conductivity,\n",
    "    \"sal\":salinity,\n",
    "    \"oxy\":oxygen,\n",
    "    \"press\":pressure_dbar,\n",
    "    \"date_time\":raw_data[\"date time\"],\n",
    "    \"flag\":flag\n",
    "})\n",
    "\n",
    "data"
   ]
  },
  {
   "cell_type": "markdown",
   "metadata": {},
   "source": [
    "## [Data Plotting](#proc-list)"
   ]
  },
  {
   "cell_type": "code",
   "execution_count": 12,
   "metadata": {},
   "outputs": [
    {
     "data": {
      "application/vnd.plotly.v1+json": {
       "config": {
        "plotlyServerURL": "https://plot.ly"
       },
       "data": [
        {
         "name": "Temperature",
         "type": "scatter",
         "x": [
          "2025-09-19T20:10:03.000000000",
          "2025-09-19T20:10:13.000000000",
          "2025-09-19T20:10:23.000000000",
          "2025-09-19T20:10:33.000000000",
          "2025-09-19T20:10:43.000000000",
          "2025-09-19T20:10:53.000000000",
          "2025-09-19T20:11:03.000000000",
          "2025-09-19T20:11:13.000000000",
          "2025-09-19T20:11:23.000000000",
          "2025-09-19T20:11:33.000000000",
          "2025-09-19T20:11:43.000000000",
          "2025-09-19T20:11:53.000000000",
          "2025-09-19T20:12:03.000000000",
          "2025-09-19T20:12:13.000000000",
          "2025-09-19T20:12:23.000000000",
          "2025-09-19T20:12:33.000000000",
          "2025-09-19T20:12:43.000000000"
         ],
         "y": {
          "bdata": "6MkZ6pwpVUCExceI2SlVQNh5CQEHKlVA5NhcejQqVUAQukKJaSpVQJDfWi6mKlVA3NtiudgqVUColNhTECtVQDB5iL5jK1VALLZJx5MrVUB0OyBnyytVQKj5Q7wULFVAGBv1QUIsVUDYDUlfdyxVQDRuMsrFLFVAuFM/ggItVUBgbqIsOi1VQA==",
          "dtype": "f8"
         },
         "yaxis": "y"
        },
        {
         "name": "Conductivity",
         "type": "scatter",
         "x": [
          "2025-09-19T20:10:03.000000000",
          "2025-09-19T20:10:13.000000000",
          "2025-09-19T20:10:23.000000000",
          "2025-09-19T20:10:33.000000000",
          "2025-09-19T20:10:43.000000000",
          "2025-09-19T20:10:53.000000000",
          "2025-09-19T20:11:03.000000000",
          "2025-09-19T20:11:13.000000000",
          "2025-09-19T20:11:23.000000000",
          "2025-09-19T20:11:33.000000000",
          "2025-09-19T20:11:43.000000000",
          "2025-09-19T20:11:53.000000000",
          "2025-09-19T20:12:03.000000000",
          "2025-09-19T20:12:13.000000000",
          "2025-09-19T20:12:23.000000000",
          "2025-09-19T20:12:33.000000000",
          "2025-09-19T20:12:43.000000000"
         ],
         "y": {
          "bdata": "JBd5uS7zwL+F+8VRRPPAvyqljUdE88C/KNtQPUTzwL8pm0TXWfPAv7YlsslZ88C/3+hxGETzwL8ERNixWfPAv7R2KZ9Z88C/4FVilFnzwL+Fs+KHWfPAv1hpbndZ88C/LlIqbVnzwL9r5ENhWfPAv8vDuE9Z88C/JEgQQlnzwL+/EnXbbvPAvw==",
          "dtype": "f8"
         },
         "yaxis": "y2"
        },
        {
         "name": "Pressure",
         "type": "scatter",
         "x": [
          "2025-09-19T20:10:03.000000000",
          "2025-09-19T20:10:13.000000000",
          "2025-09-19T20:10:23.000000000",
          "2025-09-19T20:10:33.000000000",
          "2025-09-19T20:10:43.000000000",
          "2025-09-19T20:10:53.000000000",
          "2025-09-19T20:11:03.000000000",
          "2025-09-19T20:11:13.000000000",
          "2025-09-19T20:11:23.000000000",
          "2025-09-19T20:11:33.000000000",
          "2025-09-19T20:11:43.000000000",
          "2025-09-19T20:11:53.000000000",
          "2025-09-19T20:12:03.000000000",
          "2025-09-19T20:12:13.000000000",
          "2025-09-19T20:12:23.000000000",
          "2025-09-19T20:12:33.000000000",
          "2025-09-19T20:12:43.000000000"
         ],
         "y": {
          "bdata": "5mgkfuCrkUB0AFPS4auRQLe0Oyjhq5FAddCh39+rkUAIHQ3U36uRQLe0Oyjhq5FAb4SKNd+rkUB10KHf36uRQLe0Oyjhq5FAt7Q7KOGrkUDmaCR+4KuRQOZoJH7gq5FAWzhzi96rkUBvhIo136uRQLe0Oyjhq5FAddCh39+rkUC3tDso4auRQA==",
          "dtype": "f8"
         },
         "yaxis": "y3"
        },
        {
         "name": "Oxygen",
         "type": "scatter",
         "x": [
          "2025-09-19T20:10:03.000000000",
          "2025-09-19T20:10:13.000000000",
          "2025-09-19T20:10:23.000000000",
          "2025-09-19T20:10:33.000000000",
          "2025-09-19T20:10:43.000000000",
          "2025-09-19T20:10:53.000000000",
          "2025-09-19T20:11:03.000000000",
          "2025-09-19T20:11:13.000000000",
          "2025-09-19T20:11:23.000000000",
          "2025-09-19T20:11:33.000000000",
          "2025-09-19T20:11:43.000000000",
          "2025-09-19T20:11:53.000000000",
          "2025-09-19T20:12:03.000000000",
          "2025-09-19T20:12:13.000000000",
          "2025-09-19T20:12:23.000000000",
          "2025-09-19T20:12:33.000000000",
          "2025-09-19T20:12:43.000000000"
         ],
         "y": {
          "bdata": "wguUhoewFEC6Sr6Wtq8UQLOHK1iishRAB9HadtyuFEBCYx0PRrMUQAJ1KHzpsBRAYk8/+lSvFECaIzjxS68UQMJ4dlF9sRRAqJQBX2SxFED1KOZRQrEUQLyGeHdqsBRA9Y9nIhexFEA1qkUm9bAUQO5lHsfcsxRAYvg6p+SvFEDmmVC48a4UQA==",
          "dtype": "f8"
         },
         "yaxis": "y4"
        }
       ],
       "layout": {
        "height": 800,
        "template": {
         "data": {
          "bar": [
           {
            "error_x": {
             "color": "#2a3f5f"
            },
            "error_y": {
             "color": "#2a3f5f"
            },
            "marker": {
             "line": {
              "color": "#E5ECF6",
              "width": 0.5
             },
             "pattern": {
              "fillmode": "overlay",
              "size": 10,
              "solidity": 0.2
             }
            },
            "type": "bar"
           }
          ],
          "barpolar": [
           {
            "marker": {
             "line": {
              "color": "#E5ECF6",
              "width": 0.5
             },
             "pattern": {
              "fillmode": "overlay",
              "size": 10,
              "solidity": 0.2
             }
            },
            "type": "barpolar"
           }
          ],
          "carpet": [
           {
            "aaxis": {
             "endlinecolor": "#2a3f5f",
             "gridcolor": "white",
             "linecolor": "white",
             "minorgridcolor": "white",
             "startlinecolor": "#2a3f5f"
            },
            "baxis": {
             "endlinecolor": "#2a3f5f",
             "gridcolor": "white",
             "linecolor": "white",
             "minorgridcolor": "white",
             "startlinecolor": "#2a3f5f"
            },
            "type": "carpet"
           }
          ],
          "choropleth": [
           {
            "colorbar": {
             "outlinewidth": 0,
             "ticks": ""
            },
            "type": "choropleth"
           }
          ],
          "contour": [
           {
            "colorbar": {
             "outlinewidth": 0,
             "ticks": ""
            },
            "colorscale": [
             [
              0,
              "#0d0887"
             ],
             [
              0.1111111111111111,
              "#46039f"
             ],
             [
              0.2222222222222222,
              "#7201a8"
             ],
             [
              0.3333333333333333,
              "#9c179e"
             ],
             [
              0.4444444444444444,
              "#bd3786"
             ],
             [
              0.5555555555555556,
              "#d8576b"
             ],
             [
              0.6666666666666666,
              "#ed7953"
             ],
             [
              0.7777777777777778,
              "#fb9f3a"
             ],
             [
              0.8888888888888888,
              "#fdca26"
             ],
             [
              1,
              "#f0f921"
             ]
            ],
            "type": "contour"
           }
          ],
          "contourcarpet": [
           {
            "colorbar": {
             "outlinewidth": 0,
             "ticks": ""
            },
            "type": "contourcarpet"
           }
          ],
          "heatmap": [
           {
            "colorbar": {
             "outlinewidth": 0,
             "ticks": ""
            },
            "colorscale": [
             [
              0,
              "#0d0887"
             ],
             [
              0.1111111111111111,
              "#46039f"
             ],
             [
              0.2222222222222222,
              "#7201a8"
             ],
             [
              0.3333333333333333,
              "#9c179e"
             ],
             [
              0.4444444444444444,
              "#bd3786"
             ],
             [
              0.5555555555555556,
              "#d8576b"
             ],
             [
              0.6666666666666666,
              "#ed7953"
             ],
             [
              0.7777777777777778,
              "#fb9f3a"
             ],
             [
              0.8888888888888888,
              "#fdca26"
             ],
             [
              1,
              "#f0f921"
             ]
            ],
            "type": "heatmap"
           }
          ],
          "histogram": [
           {
            "marker": {
             "pattern": {
              "fillmode": "overlay",
              "size": 10,
              "solidity": 0.2
             }
            },
            "type": "histogram"
           }
          ],
          "histogram2d": [
           {
            "colorbar": {
             "outlinewidth": 0,
             "ticks": ""
            },
            "colorscale": [
             [
              0,
              "#0d0887"
             ],
             [
              0.1111111111111111,
              "#46039f"
             ],
             [
              0.2222222222222222,
              "#7201a8"
             ],
             [
              0.3333333333333333,
              "#9c179e"
             ],
             [
              0.4444444444444444,
              "#bd3786"
             ],
             [
              0.5555555555555556,
              "#d8576b"
             ],
             [
              0.6666666666666666,
              "#ed7953"
             ],
             [
              0.7777777777777778,
              "#fb9f3a"
             ],
             [
              0.8888888888888888,
              "#fdca26"
             ],
             [
              1,
              "#f0f921"
             ]
            ],
            "type": "histogram2d"
           }
          ],
          "histogram2dcontour": [
           {
            "colorbar": {
             "outlinewidth": 0,
             "ticks": ""
            },
            "colorscale": [
             [
              0,
              "#0d0887"
             ],
             [
              0.1111111111111111,
              "#46039f"
             ],
             [
              0.2222222222222222,
              "#7201a8"
             ],
             [
              0.3333333333333333,
              "#9c179e"
             ],
             [
              0.4444444444444444,
              "#bd3786"
             ],
             [
              0.5555555555555556,
              "#d8576b"
             ],
             [
              0.6666666666666666,
              "#ed7953"
             ],
             [
              0.7777777777777778,
              "#fb9f3a"
             ],
             [
              0.8888888888888888,
              "#fdca26"
             ],
             [
              1,
              "#f0f921"
             ]
            ],
            "type": "histogram2dcontour"
           }
          ],
          "mesh3d": [
           {
            "colorbar": {
             "outlinewidth": 0,
             "ticks": ""
            },
            "type": "mesh3d"
           }
          ],
          "parcoords": [
           {
            "line": {
             "colorbar": {
              "outlinewidth": 0,
              "ticks": ""
             }
            },
            "type": "parcoords"
           }
          ],
          "pie": [
           {
            "automargin": true,
            "type": "pie"
           }
          ],
          "scatter": [
           {
            "fillpattern": {
             "fillmode": "overlay",
             "size": 10,
             "solidity": 0.2
            },
            "type": "scatter"
           }
          ],
          "scatter3d": [
           {
            "line": {
             "colorbar": {
              "outlinewidth": 0,
              "ticks": ""
             }
            },
            "marker": {
             "colorbar": {
              "outlinewidth": 0,
              "ticks": ""
             }
            },
            "type": "scatter3d"
           }
          ],
          "scattercarpet": [
           {
            "marker": {
             "colorbar": {
              "outlinewidth": 0,
              "ticks": ""
             }
            },
            "type": "scattercarpet"
           }
          ],
          "scattergeo": [
           {
            "marker": {
             "colorbar": {
              "outlinewidth": 0,
              "ticks": ""
             }
            },
            "type": "scattergeo"
           }
          ],
          "scattergl": [
           {
            "marker": {
             "colorbar": {
              "outlinewidth": 0,
              "ticks": ""
             }
            },
            "type": "scattergl"
           }
          ],
          "scattermap": [
           {
            "marker": {
             "colorbar": {
              "outlinewidth": 0,
              "ticks": ""
             }
            },
            "type": "scattermap"
           }
          ],
          "scattermapbox": [
           {
            "marker": {
             "colorbar": {
              "outlinewidth": 0,
              "ticks": ""
             }
            },
            "type": "scattermapbox"
           }
          ],
          "scatterpolar": [
           {
            "marker": {
             "colorbar": {
              "outlinewidth": 0,
              "ticks": ""
             }
            },
            "type": "scatterpolar"
           }
          ],
          "scatterpolargl": [
           {
            "marker": {
             "colorbar": {
              "outlinewidth": 0,
              "ticks": ""
             }
            },
            "type": "scatterpolargl"
           }
          ],
          "scatterternary": [
           {
            "marker": {
             "colorbar": {
              "outlinewidth": 0,
              "ticks": ""
             }
            },
            "type": "scatterternary"
           }
          ],
          "surface": [
           {
            "colorbar": {
             "outlinewidth": 0,
             "ticks": ""
            },
            "colorscale": [
             [
              0,
              "#0d0887"
             ],
             [
              0.1111111111111111,
              "#46039f"
             ],
             [
              0.2222222222222222,
              "#7201a8"
             ],
             [
              0.3333333333333333,
              "#9c179e"
             ],
             [
              0.4444444444444444,
              "#bd3786"
             ],
             [
              0.5555555555555556,
              "#d8576b"
             ],
             [
              0.6666666666666666,
              "#ed7953"
             ],
             [
              0.7777777777777778,
              "#fb9f3a"
             ],
             [
              0.8888888888888888,
              "#fdca26"
             ],
             [
              1,
              "#f0f921"
             ]
            ],
            "type": "surface"
           }
          ],
          "table": [
           {
            "cells": {
             "fill": {
              "color": "#EBF0F8"
             },
             "line": {
              "color": "white"
             }
            },
            "header": {
             "fill": {
              "color": "#C8D4E3"
             },
             "line": {
              "color": "white"
             }
            },
            "type": "table"
           }
          ]
         },
         "layout": {
          "annotationdefaults": {
           "arrowcolor": "#2a3f5f",
           "arrowhead": 0,
           "arrowwidth": 1
          },
          "autotypenumbers": "strict",
          "coloraxis": {
           "colorbar": {
            "outlinewidth": 0,
            "ticks": ""
           }
          },
          "colorscale": {
           "diverging": [
            [
             0,
             "#8e0152"
            ],
            [
             0.1,
             "#c51b7d"
            ],
            [
             0.2,
             "#de77ae"
            ],
            [
             0.3,
             "#f1b6da"
            ],
            [
             0.4,
             "#fde0ef"
            ],
            [
             0.5,
             "#f7f7f7"
            ],
            [
             0.6,
             "#e6f5d0"
            ],
            [
             0.7,
             "#b8e186"
            ],
            [
             0.8,
             "#7fbc41"
            ],
            [
             0.9,
             "#4d9221"
            ],
            [
             1,
             "#276419"
            ]
           ],
           "sequential": [
            [
             0,
             "#0d0887"
            ],
            [
             0.1111111111111111,
             "#46039f"
            ],
            [
             0.2222222222222222,
             "#7201a8"
            ],
            [
             0.3333333333333333,
             "#9c179e"
            ],
            [
             0.4444444444444444,
             "#bd3786"
            ],
            [
             0.5555555555555556,
             "#d8576b"
            ],
            [
             0.6666666666666666,
             "#ed7953"
            ],
            [
             0.7777777777777778,
             "#fb9f3a"
            ],
            [
             0.8888888888888888,
             "#fdca26"
            ],
            [
             1,
             "#f0f921"
            ]
           ],
           "sequentialminus": [
            [
             0,
             "#0d0887"
            ],
            [
             0.1111111111111111,
             "#46039f"
            ],
            [
             0.2222222222222222,
             "#7201a8"
            ],
            [
             0.3333333333333333,
             "#9c179e"
            ],
            [
             0.4444444444444444,
             "#bd3786"
            ],
            [
             0.5555555555555556,
             "#d8576b"
            ],
            [
             0.6666666666666666,
             "#ed7953"
            ],
            [
             0.7777777777777778,
             "#fb9f3a"
            ],
            [
             0.8888888888888888,
             "#fdca26"
            ],
            [
             1,
             "#f0f921"
            ]
           ]
          },
          "colorway": [
           "#636efa",
           "#EF553B",
           "#00cc96",
           "#ab63fa",
           "#FFA15A",
           "#19d3f3",
           "#FF6692",
           "#B6E880",
           "#FF97FF",
           "#FECB52"
          ],
          "font": {
           "color": "#2a3f5f"
          },
          "geo": {
           "bgcolor": "white",
           "lakecolor": "white",
           "landcolor": "#E5ECF6",
           "showlakes": true,
           "showland": true,
           "subunitcolor": "white"
          },
          "hoverlabel": {
           "align": "left"
          },
          "hovermode": "closest",
          "mapbox": {
           "style": "light"
          },
          "paper_bgcolor": "white",
          "plot_bgcolor": "#E5ECF6",
          "polar": {
           "angularaxis": {
            "gridcolor": "white",
            "linecolor": "white",
            "ticks": ""
           },
           "bgcolor": "#E5ECF6",
           "radialaxis": {
            "gridcolor": "white",
            "linecolor": "white",
            "ticks": ""
           }
          },
          "scene": {
           "xaxis": {
            "backgroundcolor": "#E5ECF6",
            "gridcolor": "white",
            "gridwidth": 2,
            "linecolor": "white",
            "showbackground": true,
            "ticks": "",
            "zerolinecolor": "white"
           },
           "yaxis": {
            "backgroundcolor": "#E5ECF6",
            "gridcolor": "white",
            "gridwidth": 2,
            "linecolor": "white",
            "showbackground": true,
            "ticks": "",
            "zerolinecolor": "white"
           },
           "zaxis": {
            "backgroundcolor": "#E5ECF6",
            "gridcolor": "white",
            "gridwidth": 2,
            "linecolor": "white",
            "showbackground": true,
            "ticks": "",
            "zerolinecolor": "white"
           }
          },
          "shapedefaults": {
           "line": {
            "color": "#2a3f5f"
           }
          },
          "ternary": {
           "aaxis": {
            "gridcolor": "white",
            "linecolor": "white",
            "ticks": ""
           },
           "baxis": {
            "gridcolor": "white",
            "linecolor": "white",
            "ticks": ""
           },
           "bgcolor": "#E5ECF6",
           "caxis": {
            "gridcolor": "white",
            "linecolor": "white",
            "ticks": ""
           }
          },
          "title": {
           "x": 0.05
          },
          "xaxis": {
           "automargin": true,
           "gridcolor": "white",
           "linecolor": "white",
           "ticks": "",
           "title": {
            "standoff": 15
           },
           "zerolinecolor": "white",
           "zerolinewidth": 2
          },
          "yaxis": {
           "automargin": true,
           "gridcolor": "white",
           "linecolor": "white",
           "ticks": "",
           "title": {
            "standoff": 15
           },
           "zerolinecolor": "white",
           "zerolinewidth": 2
          }
         }
        },
        "title": {
         "text": "HydroCAT-ODO Data Conversion"
        },
        "xaxis": {
         "domain": [
          0.30000000000000004,
          1
         ],
         "title": {
          "text": ""
         }
        },
        "xaxis2": {
         "overlaying": "x",
         "position": 0.1,
         "title": {
          "text": ""
         }
        },
        "xaxis3": {
         "overlaying": "x",
         "position": 0.2,
         "title": {
          "text": ""
         }
        },
        "xaxis4": {
         "overlaying": "x",
         "position": 0.3,
         "title": {
          "text": ""
         }
        },
        "yaxis": {
         "domain": [
          0.1,
          1
         ],
         "position": 0,
         "title": {
          "text": "Temperature [ITS-90 degrees C]"
         }
        },
        "yaxis2": {
         "overlaying": "y",
         "position": 0.1,
         "title": {
          "text": "Conductivity [S/m]"
         }
        },
        "yaxis3": {
         "overlaying": "y",
         "position": 0.2,
         "title": {
          "text": "Pressure [dbar]"
         }
        },
        "yaxis4": {
         "overlaying": "y",
         "position": 0.3,
         "title": {
          "text": "Oxygen [ml/l]"
         }
        }
       }
      }
     },
     "metadata": {},
     "output_type": "display_data"
    }
   ],
   "source": [
    "config = viz.ChartConfig(\n",
    "    title=\"HydroCAT-ODO Data Conversion\",\n",
    "    x_names=[\"date_time\"],\n",
    "    y_names=[\"temp\", \"cond\", \"press\", \"oxy\"],\n",
    "    z_names=[],\n",
    "    chart_type=\"overlay\",\n",
    "    plot_loop_edit_flags=False,\n",
    "    lift_pen_over_bad_data=True,\n",
    ")\n",
    "\n",
    "chart_data = viz.ChartData(data, config)\n",
    "fig = viz.plot_xy_chart(chart_data, config)\n",
    "\n",
    "# plotly customizations\n",
    "fig.data[0].name = \"Temperature\"\n",
    "fig.data[1].name = \"Conductivity\"\n",
    "fig.data[2].name = \"Pressure\"\n",
    "fig.data[3].name = \"Oxygen\"\n",
    "fig[\"layout\"][\"yaxis\"][\"title\"] = \"Temperature [ITS-90 degrees C]\"\n",
    "fig[\"layout\"][\"yaxis2\"][\"title\"] = \"Conductivity [S/m]\"\n",
    "fig[\"layout\"][\"yaxis3\"][\"title\"] = \"Pressure [dbar]\"\n",
    "fig[\"layout\"][\"yaxis4\"][\"title\"] = \"Oxygen [ml/l]\"\n",
    "\n",
    "\n",
    "fig.update_layout(height=800)\n",
    "fig.show()"
   ]
  }
 ],
 "metadata": {
  "kernelspec": {
   "display_name": ".venv",
   "language": "python",
   "name": "python3"
  },
  "language_info": {
   "codemirror_mode": {
    "name": "ipython",
    "version": 3
   },
   "file_extension": ".py",
   "mimetype": "text/x-python",
   "name": "python",
   "nbconvert_exporter": "python",
   "pygments_lexer": "ipython3",
   "version": "3.12.7"
  }
 },
 "nbformat": 4,
 "nbformat_minor": 4
}

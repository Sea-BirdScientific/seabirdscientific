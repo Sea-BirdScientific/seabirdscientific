{
 "cells": [
  {
   "cell_type": "markdown",
   "metadata": {},
   "source": [
    "# Data Conversion of SeapHOx V2 .hex data\n",
    "This python notebook shows how to convert a .hex file into pandas dataframe with scientific values.\n",
    "\n",
    "Please contact [SBS customer support](https://www.seabird.com/support) for help or to request additional features."
   ]
  },
  {
   "cell_type": "markdown",
   "metadata": {},
   "source": [
    "## Init\n",
    "\n",
    "The initialization code section below is used to import required libraries."
   ]
  },
  {
   "cell_type": "code",
   "execution_count": null,
   "metadata": {},
   "outputs": [],
   "source": [
    "# Native imports\n",
    "import os\n",
    "\n",
    "# Third-party imports\n",
    "import numpy as np\n",
    "import pandas as pd\n",
    "\n",
    "# Sea-Bird imports\n",
    "import seabirdscientific.conversion as conv\n",
    "import seabirdscientific.instrument_data as id\n",
    "import seabirdscientific.visualization as viz\n",
    "import example_data.example_coefficients as ec"
   ]
  },
  {
   "cell_type": "markdown",
   "metadata": {},
   "source": [
    "## [Data Conversion](#proc-list)\n",
    "\n",
    "This section shows how to convert raw data contained in a .hex file into scientific units for the instruments that follow:  \n",
    "- SeapHOx V2"
   ]
  },
  {
   "cell_type": "code",
   "execution_count": null,
   "metadata": {},
   "outputs": [],
   "source": [
    "hex_file = os.path.join(\"example_data\", \"SeapHOx_V2\", \"SeapHOx_V2.hex\")\n",
    "\n",
    "# Convert raw hexadecimal string to raw frequencies\n",
    "raw_data = id.read_hex_file(\n",
    "    filepath=hex_file, instrument_type=id.InstrumentType.SeapHox2, is_shallow=True\n",
    ")"
   ]
  },
  {
   "cell_type": "code",
   "execution_count": null,
   "metadata": {},
   "outputs": [],
   "source": [
    "# Convert raw values to scientific values\n",
    "\n",
    "temperature_C = conv.convert_temperature(\n",
    "    temperature_counts_in=raw_data[\"temperature\"].values,\n",
    "    coefs=ec.temperature_coefs_sn6385,\n",
    "    standard=\"ITS90\",\n",
    "    units=\"C\",\n",
    "    use_mv_r=False,\n",
    ")\n",
    "\n",
    "pressure_dbar = conv.convert_pressure(\n",
    "    pressure_count=raw_data[\"pressure\"].values,\n",
    "    compensation_voltage=raw_data[\"temperature compensation\"],\n",
    "    coefs=ec.pressure_coefs_sn6385,\n",
    "    units=\"dbar\",\n",
    ")\n",
    "\n",
    "conductivity = conv.convert_conductivity(\n",
    "    conductivity_count=raw_data[\"conductivity\"].values,\n",
    "    temperature=temperature_C,\n",
    "    pressure=pressure_dbar,  # must be in units of dbar\n",
    "    coefs=ec.conductivity_coefs_sn6385,\n",
    ")\n",
    "\n",
    "# salinity = gsw.SP_from_C(\n",
    "#     C=conductivity / 1000, # mS/cm\n",
    "#     t=temperature, # ITS90 C\n",
    "#     p=pressure_dbar # dbar\n",
    "# )\n",
    "salinity = np.full(len(temperature_C), 30.0)  # override until we have a real data set\n",
    "\n",
    "ph_temperature = conv.convert_seafet_temperature(\n",
    "    raw_temp=raw_data[\"ph temperature\"].values, coefs=ec.temeprature_seafet_coefs\n",
    ")\n",
    "\n",
    "ph_internal = conv.convert_internal_seafet_ph(\n",
    "    ph_counts=raw_data[\"vrs internal\"].values,\n",
    "    temperature=temperature_C,\n",
    "    coefs=ec.ph_internal_coefs,\n",
    ")\n",
    "\n",
    "ph_external = conv.convert_external_seafet_ph(\n",
    "    ph_counts=raw_data[\"vrs external\"].values,\n",
    "    temperature=ph_temperature,\n",
    "    salinity=salinity,\n",
    "    pressure=pressure_dbar,\n",
    "    coefs=ec.ph_external_coefs,\n",
    ")\n",
    "\n",
    "# Calculating oxygen here in preliminary. Oxygen should be recalculated once pressure and salinity (both inputs to this calculation)\n",
    "# are processed with the tools in processing.ipynb but before bin average.\n",
    "oxygen = conv.convert_sbe63_oxygen(\n",
    "    raw_oxygen_phase=raw_data[\"SBE63 oxygen phase\"],\n",
    "    thermistor=raw_data[\"SBE63 oxygen temperature\"],\n",
    "    pressure=pressure_dbar,\n",
    "    salinity=salinity,\n",
    "    coefs=ec.oxygen_63_coefs_sn2568,\n",
    "    thermistor_coefs=ec.thermistor_63_coefs_sn2568,\n",
    "    thermistor_units=\"volts\",\n",
    ")\n",
    "\n",
    "# Flag to be used in data processing\n",
    "flag = np.zeros(len(raw_data))\n",
    "\n",
    "data = pd.DataFrame(\n",
    "    {\n",
    "        \"temp\": temperature_C,\n",
    "        \"cond\": conductivity,\n",
    "        \"sal\": salinity,\n",
    "        \"pres\": pressure_dbar,\n",
    "        \"oxy\": oxygen,\n",
    "        \"ph_internal\": ph_internal,\n",
    "        \"ph_external\": ph_external,\n",
    "        \"date_time\": raw_data[\"date time\"],\n",
    "        \"flag\": flag,\n",
    "    }\n",
    ")\n",
    "\n",
    "data"
   ]
  },
  {
   "cell_type": "markdown",
   "metadata": {},
   "source": [
    "## [Data Plotting](#proc-list)"
   ]
  },
  {
   "cell_type": "code",
   "execution_count": null,
   "metadata": {},
   "outputs": [],
   "source": [
    "config = viz.ChartConfig(\n",
    "    title=\"SeaFET Data Conversion\",\n",
    "    x_names=[\"date_time\"],\n",
    "    y_names=[\"temp\", \"oxy\", \"ph_internal\", \"ph_external\"],\n",
    "    z_names=[],\n",
    "    chart_type=\"overlay\",\n",
    "    plot_loop_edit_flags=False,\n",
    "    lift_pen_over_bad_data=True,\n",
    ")\n",
    "\n",
    "chart_data = viz.ChartData(data, config)\n",
    "fig = viz.plot_xy_chart(chart_data, config)\n",
    "\n",
    "# plotly customizations\n",
    "fig[\"layout\"][\"yaxis\"][\"autorange\"] = \"reversed\"\n",
    "fig.data[0].name = \"Temperature\"\n",
    "fig.data[1].name = \"Oxygen\"\n",
    "fig.data[2].name = \"pH Internal\"\n",
    "fig.data[3].name = \"pH External\"\n",
    "fig[\"layout\"][\"yaxis\"][\"title\"] = \"Temperature [ITS-90 C]\"\n",
    "fig[\"layout\"][\"yaxis2\"][\"title\"] = \"Oxygen [ml/l]\"\n",
    "fig[\"layout\"][\"yaxis3\"][\"title\"] = \"pH Internal\"\n",
    "fig[\"layout\"][\"yaxis4\"][\"title\"] = \"pH External\"\n",
    "\n",
    "\n",
    "fig.update_layout(height=800)\n",
    "fig.show()"
   ]
  },
  {
   "cell_type": "markdown",
   "metadata": {},
   "source": [
    "## Processing\n",
    "\n",
    "This converted data should now be processed using the tools in processing.ipynb to produce a final data product."
   ]
  }
 ],
 "metadata": {
  "kernelspec": {
   "display_name": ".venv",
   "language": "python",
   "name": "python3"
  },
  "language_info": {
   "codemirror_mode": {
    "name": "ipython",
    "version": 3
   },
   "file_extension": ".py",
   "mimetype": "text/x-python",
   "name": "python",
   "nbconvert_exporter": "python",
   "pygments_lexer": "ipython3",
   "version": "3.12.7"
  }
 },
 "nbformat": 4,
 "nbformat_minor": 4
}

{
 "cells": [
  {
   "cell_type": "code",
   "execution_count": null,
   "metadata": {},
   "outputs": [],
   "source": [
    "from sbs.visualize import visualization as dv\n",
    "\n",
    "data_path = 'orca-test-data\\SBE37SM\\SBE37SM-RS232_03711722_2015_11_18\\SBE37SM-RS232_03711722_2015_11_18.csv'\n",
    "\n",
    "config = dv.ChartConfig(\n",
    "    title = data_path,\n",
    "    x_names = [\"t090C\"],\n",
    "    y_names = [\"sal00\"],\n",
    "    z_names = [\"prM\"],\n",
    "    chart_type = \"\",\n",
    "    x_titles=['Absolute Salinity'],\n",
    "    y_titles=['Conservative Temperature (&deg;C)'],\n",
    "    z_titles=['&#963;<sub>&#952;</sub> (kg m<sup>-3</sup>)'],\n",
    ")\n",
    "\n",
    "data = dv.ChartData(data_path, config)\n",
    "\n",
    "# Plot TEOS-10 T-S diagram\n",
    "# min salinity = 1 gets rid of zero salinity values (not possible in seawater)\n",
    "figure = dv.plot_ts_chart(data, config, min_salinity=1)\n",
    "figure.show()"
   ]
  },
  {
   "cell_type": "code",
   "execution_count": null,
   "metadata": {},
   "outputs": [],
   "source": [
    "from sbs.visualize import visualization as dv\n",
    "\n",
    "# data_path = 'example_data_cropped.csv'\n",
    "data_path = 'orca-test-data\\SBE37SM\\SBE37SM-6385\\SBE37SM-6385-10k.asc'\n",
    "\n",
    "config = dv.ChartConfig(\n",
    "    title = data_path,\n",
    "    x_names = [\"tv290C\"],\n",
    "    y_names = [\"cond0S/m\"],\n",
    "    z_names = [\"prdM\"],\n",
    "    chart_type = \"\",\n",
    "    x_titles=['Conservative Temperature (&deg;C)'],\n",
    "    y_titles=['Absolute Salinity'],\n",
    "    z_titles=['&#963;<sub>&#952;</sub> (kg m<sup>-3</sup>)'],\n",
    ")\n",
    "\n",
    "data = dv.ChartData(data_path, config)\n",
    "\n",
    "# Plot TEOS-10 T-S diagram\n",
    "# min salinity = 1 gets rid of zero salinity values (not possible in seawater)\n",
    "figure = dv.plot_ts_chart(data, config, min_salinity=0)\n",
    "figure.update_layout(height=800)\n",
    "html = figure.to_html(full_html=False, include_plotlyjs=dv.PLOTLY_PATH)\n",
    "figure.show()"
   ]
  }
 ],
 "metadata": {
  "kernelspec": {
   "display_name": "Python 3.10.11 ('run': venv)",
   "language": "python",
   "name": "python3"
  },
  "language_info": {
   "codemirror_mode": {
    "name": "ipython",
    "version": 3
   },
   "file_extension": ".py",
   "mimetype": "text/x-python",
   "name": "python",
   "nbconvert_exporter": "python",
   "pygments_lexer": "ipython3",
   "version": "3.10.11"
  },
  "orig_nbformat": 4,
  "vscode": {
   "interpreter": {
    "hash": "db203ecee00df821b0202c554a7bdbb5cc595f3231ba4eba8a05224ccd7d06be"
   }
  }
 },
 "nbformat": 4,
 "nbformat_minor": 2
}
